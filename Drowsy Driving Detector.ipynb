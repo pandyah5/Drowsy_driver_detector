{
 "cells": [
  {
   "cell_type": "markdown",
   "metadata": {},
   "source": [
    "# Full Source Code at the End"
   ]
  },
  {
   "cell_type": "markdown",
   "metadata": {},
   "source": [
    "## Installing required modules"
   ]
  },
  {
   "cell_type": "code",
   "execution_count": null,
   "metadata": {},
   "outputs": [],
   "source": [
    "!pip install opencv-python\n",
    "!pip install pyttsx3"
   ]
  },
  {
   "cell_type": "markdown",
   "metadata": {},
   "source": [
    "## Importing required libraries"
   ]
  },
  {
   "cell_type": "code",
   "execution_count": null,
   "metadata": {},
   "outputs": [],
   "source": [
    "import cv2 ## For eye detection\n",
    "import time ## For time outs, breaks etc.\n",
    "import pyttsx3 ## For voice commands"
   ]
  },
  {
   "cell_type": "markdown",
   "metadata": {},
   "source": [
    "#### ----------------------------------------------------------------------------------------------------------------------\n",
    "#### Note: \n",
    "#### 1) Observe how we installed OpenCV as “opencv-python” and imported it as “cv2”.\n",
    "\n",
    "#### 2) Some modules like “time” come pre-installed so we did not have to install them.\n",
    "#### ----------------------------------------------------------------------------------------------------------------------"
   ]
  },
  {
   "cell_type": "markdown",
   "metadata": {},
   "source": [
    "## Accessing Audio"
   ]
  },
  {
   "cell_type": "code",
   "execution_count": null,
   "metadata": {},
   "outputs": [],
   "source": [
    "## Code for initializing the voice commands\n",
    "converter = pyttsx3.init() # Initializes the audio element in a variable named 'converter'\n",
    "converter.setProperty('rate', 150) # This sets the pace of audio\n",
    "converter.setProperty('volume', 100) # This sets the volume of audio\n",
    "\n",
    "## Voice ID gets the audio pre-installed in the PC\n",
    "voice_id = \"HKEY_LOCAL_MACHINE\\SOFTWARE\\Microsoft\\Speech\\Voices\\Tokens\\TTS_MS_EN-US_ZIRA_11.0\" # For Windows\n",
    "converter.setProperty('voice', voice_id)"
   ]
  },
  {
   "cell_type": "markdown",
   "metadata": {},
   "source": [
    "## Camera and Cascades"
   ]
  },
  {
   "cell_type": "markdown",
   "metadata": {},
   "source": [
    "#### ---------------------------------------------------------------------------------------------------------------------------------------\n",
    "#### Note:\n",
    "#### Here I have used absolute paths for the files, this will help you in case relative paths don't work\n",
    "#### ---------------------------------------------------------------------------------------------------------------------------------------"
   ]
  },
  {
   "cell_type": "code",
   "execution_count": null,
   "metadata": {},
   "outputs": [],
   "source": [
    "cap = cv2.VideoCapture(0)\n",
    "\n",
    "face_cascade = cv2.CascadeClassifier('D:\\\\Python files\\\\haarcascade files\\\\haarcascade_eye.xml')\n",
    "face_cascade_glasses = cv2.CascadeClassifier('D:\\\\Python files\\\\haarcascade files\\\\haarcascade_eye_tree_eyeglasses.xml')\n",
    "face_cascade_front = cv2.CascadeClassifier('D:\\\\Python files\\\\haarcascade files\\\\haarcascade_frontalface_alt.xml')"
   ]
  },
  {
   "cell_type": "markdown",
   "metadata": {},
   "source": [
    "## The Entire While Loop"
   ]
  },
  {
   "cell_type": "code",
   "execution_count": null,
   "metadata": {},
   "outputs": [],
   "source": [
    "start_time = time.time()\n",
    "\n",
    "while True:\n",
    "    end_time = time.time()\n",
    "    # read the image from the cam\n",
    "    _, image = cap.read()\n",
    "    # converting to grayscale\n",
    "    image_gray = cv2.cvtColor(image, cv2.COLOR_BGR2GRAY)\n",
    "    # detect all the faces in the image\n",
    "    eyes = face_cascade.detectMultiScale(image_gray, 1.3, 5)\n",
    "    eyes_with_glasses = face_cascade_glasses.detectMultiScale(image_gray, 1.3, 5)\n",
    "    faces = face_cascade_front.detectMultiScale(image_gray, 1.3, 5)\n",
    "    \n",
    "    found = 0 # To keep track of the presence of eyes.\n",
    "    \n",
    "    ## Detects if driver is present or not\n",
    "    if len(eyes) > 0 or len(eyes_with_glasses) > 0:\n",
    "        found = 1\n",
    "        start_time = time.time()\n",
    "\n",
    "    ## Alerts driver if eyes are closed for more than 5 seconds \n",
    "    if (found == 0 and end_time - start_time > 5 and len(faces) != 0):\n",
    "        converter.say(\"Please focus on driving\")\n",
    "        converter.runAndWait()\n",
    "        found = 1\n",
    "\n",
    "    ## Drawing rectangles around the detected eyes and faces\n",
    "    if len(eyes) > 0: # Detected eyes\n",
    "        for x, y, width, height in eyes:\n",
    "            cv2.rectangle(image, (x, y), (x + width, y + height), color=(255, 0, 0), thickness=2) # Color: Blue\n",
    "    elif len(eyes_with_glasses) > 0: # Detected eyes with glasses\n",
    "        for x, y, width, height in eyes_with_glasses:\n",
    "            cv2.rectangle(image, (x, y), (x + width, y + height), color=(255, 0, 0), thickness=2)\n",
    "    else:\n",
    "        pass\n",
    "\n",
    "    if len(faces) > 0: # Detected face\n",
    "        for x, y, width, height in faces:\n",
    "            cv2.rectangle(image, (x, y), (x + width, y + height), color=(0, 0, 255), thickness=2) # Color: Red\n",
    "\n",
    "    ## For exiting the program\n",
    "    cv2.imshow(\"image\", image)\n",
    "    if cv2.waitKey(1) == ord(\"q\"):\n",
    "        break"
   ]
  },
  {
   "cell_type": "markdown",
   "metadata": {},
   "source": [
    "## Closing the Camera"
   ]
  },
  {
   "cell_type": "code",
   "execution_count": null,
   "metadata": {},
   "outputs": [],
   "source": [
    "cap.release()\n",
    "cv2.destroyAllWindows()"
   ]
  },
  {
   "cell_type": "markdown",
   "metadata": {},
   "source": [
    "# Entire Code"
   ]
  },
  {
   "cell_type": "code",
   "execution_count": 1,
   "metadata": {},
   "outputs": [
    {
     "name": "stdout",
     "output_type": "stream",
     "text": [
      "Requirement already satisfied: opencv-python in c:\\users\\hetav pandya\\anaconda3\\lib\\site-packages (4.2.0.32)\n",
      "Requirement already satisfied: numpy>=1.14.5 in c:\\users\\hetav pandya\\anaconda3\\lib\\site-packages (from opencv-python) (1.18.1)\n",
      "Requirement already satisfied: pyttsx3 in c:\\users\\hetav pandya\\anaconda3\\lib\\site-packages (2.81)\n",
      "Requirement already satisfied: comtypes; \"win32\" in sys_platform in c:\\users\\hetav pandya\\anaconda3\\lib\\site-packages (from pyttsx3) (1.1.7)\n"
     ]
    }
   ],
   "source": [
    "!pip install opencv-python\n",
    "!pip install pyttsx3\n",
    "\n",
    "import cv2 ## For eye detection\n",
    "import time ## For time outs, breaks etc.\n",
    "import pyttsx3 ## For voice commands\n",
    "\n",
    "## Code for initializing the voice commands\n",
    "converter = pyttsx3.init() # Initializes the audio element in a variable named 'converter'\n",
    "converter.setProperty('rate', 150) # This sets the pace of audio\n",
    "converter.setProperty('volume', 100) # This sets the volume of audio\n",
    "\n",
    "## Voice ID gets the audio pre-installed in the PC\n",
    "voice_id = \"HKEY_LOCAL_MACHINE\\SOFTWARE\\Microsoft\\Speech\\Voices\\Tokens\\TTS_MS_EN-US_ZIRA_11.0\" # For Windows\n",
    "converter.setProperty('voice', voice_id)\n",
    "\n",
    "cap = cv2.VideoCapture(0)\n",
    "\n",
    "face_cascade = cv2.CascadeClassifier('D:\\\\Python files\\\\haarcascade files\\\\haarcascade_eye.xml')\n",
    "face_cascade_glasses = cv2.CascadeClassifier('D:\\\\Python files\\\\haarcascade files\\\\haarcascade_eye_tree_eyeglasses.xml')\n",
    "face_cascade_front = cv2.CascadeClassifier('D:\\\\Python files\\\\haarcascade files\\\\haarcascade_frontalface_alt.xml')\n",
    "\n",
    "start_time = time.time()\n",
    "\n",
    "while True:\n",
    "    end_time = time.time()\n",
    "    # read the image from the cam\n",
    "    _, image = cap.read()\n",
    "    # converting to grayscale\n",
    "    image_gray = cv2.cvtColor(image, cv2.COLOR_BGR2GRAY)\n",
    "    # detect all the faces in the image\n",
    "    eyes = face_cascade.detectMultiScale(image_gray, 1.3, 5)\n",
    "    eyes_with_glasses = face_cascade_glasses.detectMultiScale(image_gray, 1.3, 5)\n",
    "    faces = face_cascade_front.detectMultiScale(image_gray, 1.3, 5)\n",
    "    \n",
    "    found = 0 # To keep track of the presence of eyes.\n",
    "    \n",
    "    ## Detects if driver is present or not\n",
    "    if len(eyes) > 0 or len(eyes_with_glasses) > 0:\n",
    "        found = 1\n",
    "        start_time = time.time()\n",
    "\n",
    "    ## Alerts driver if eyes are closed for more than 5 seconds \n",
    "    if (found == 0 and end_time - start_time > 5 and len(faces) != 0):\n",
    "        converter.say(\"Please focus on driving\")\n",
    "        converter.runAndWait()\n",
    "        found = 1\n",
    "\n",
    "    ## Drawing rectangles around the detected eyes and faces\n",
    "    if len(eyes) > 0: # Detected eyes\n",
    "        for x, y, width, height in eyes:\n",
    "            cv2.rectangle(image, (x, y), (x + width, y + height), color=(255, 0, 0), thickness=2) # Color: Blue\n",
    "    elif len(eyes_with_glasses) > 0: # Detected eyes with glasses\n",
    "        for x, y, width, height in eyes_with_glasses:\n",
    "            cv2.rectangle(image, (x, y), (x + width, y + height), color=(255, 0, 0), thickness=2)\n",
    "    else:\n",
    "        pass\n",
    "\n",
    "    if len(faces) > 0: # Detected face\n",
    "        for x, y, width, height in faces:\n",
    "            cv2.rectangle(image, (x, y), (x + width, y + height), color=(0, 0, 255), thickness=2) # Color: Red\n",
    "\n",
    "    ## For exiting the program\n",
    "    cv2.imshow(\"image\", image)\n",
    "    if cv2.waitKey(1) == ord(\"q\"):\n",
    "        break\n",
    "        \n",
    "cap.release()\n",
    "cv2.destroyAllWindows()"
   ]
  },
  {
   "cell_type": "code",
   "execution_count": null,
   "metadata": {},
   "outputs": [],
   "source": []
  }
 ],
 "metadata": {
  "kernelspec": {
   "display_name": "Python 3",
   "language": "python",
   "name": "python3"
  },
  "language_info": {
   "codemirror_mode": {
    "name": "ipython",
    "version": 3
   },
   "file_extension": ".py",
   "mimetype": "text/x-python",
   "name": "python",
   "nbconvert_exporter": "python",
   "pygments_lexer": "ipython3",
   "version": "3.7.4"
  }
 },
 "nbformat": 4,
 "nbformat_minor": 4
}
